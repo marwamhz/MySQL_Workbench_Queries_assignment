{
 "cells": [
  {
   "cell_type": "markdown",
   "id": "7abbf3aa-7f3a-438a-9220-14a324d7bb4c",
   "metadata": {},
   "source": [
    "# Queries\n",
    "\n",
    "1. What query would you run to summarize the number of countries in each continent? The query should display the name of the continent and the number of countries. Also, the query should arrange the result by the number of countries in descending order. \n",
    "\n",
    "![png](q1.png)\n",
    "\n",
    "---\n",
    "2. What query would you run to get all the countries that speak Greek? Your query should return the name of the country, language, and language percentage. Your query should arrange the result by language percentage in descending order. \n",
    "\n",
    "![png](q2.png)\n",
    "\n",
    "---\n",
    "3. What query would you run to get all the countries with Surface Area less than 1000 OR a population greater than 100,0000,000? Include the country name, surface area, and population in your results.\n",
    "\n",
    "![png](q3.png)\n",
    "\n",
    "---\n",
    "4. What query would you run to get countries with a government form of “Federal Republic” with a life expectancy of less than 75 years?  Include the country name, form of government, and life expectancy in the results.\n",
    "\n",
    "![png](q4.png)\n",
    "\n",
    "---\n",
    "5. What query would you run to get all the cities of Mexico inside the Veracruz district and have a population greater than 100,000? The query should return the Country Name, City Name, District, and Population. \n",
    "\n",
    "![png](q5.png)\n",
    "\n",
    "---\n",
    "6. What query would you run to get all the ten cities in Brazil with the smallest population? Your query should include the country name, city name, and population. Arrange the result by population in ascending order. Limit the result to the 10 cities with the smallest population.\n",
    "\n",
    "![png](q6.png)\n",
    "\n",
    "---\n",
    "7. What query would you run to get all languages spoken greater than 10% in Monaco? Display the country name, language, and percentage.\n",
    "\n",
    "![png](q7.png)"
   ]
  }
 ],
 "metadata": {
  "kernelspec": {
   "display_name": "Python (dojo-env)",
   "language": "python",
   "name": "dojo-env"
  },
  "language_info": {
   "codemirror_mode": {
    "name": "ipython",
    "version": 3
   },
   "file_extension": ".py",
   "mimetype": "text/x-python",
   "name": "python",
   "nbconvert_exporter": "python",
   "pygments_lexer": "ipython3",
   "version": "3.10.10"
  },
  "widgets": {
   "application/vnd.jupyter.widget-state+json": {
    "state": {},
    "version_major": 2,
    "version_minor": 0
   }
  }
 },
 "nbformat": 4,
 "nbformat_minor": 5
}
